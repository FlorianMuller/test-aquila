{
 "cells": [
  {
   "cell_type": "markdown",
   "metadata": {},
   "source": [
    "# Part I : Quel(le) data scientist êtes-vous ?\n",
    "## Contexte de l’analyse\n",
    "\n",
    "Elu métier le plus sexy par la Harvard Business Review en octobre 2012, le data scientist représente un profil rare qui exige de nombreuses compétences.\n",
    "\n",
    "A partir d'un dataset Aquila, vous réaliserez :\n",
    "- un clustering non supervisé afin d'identifier 2 groupes de profils techniques distinctes\n",
    "- une prédiction des profils dont le métier n'est pas labellisé\n",
    "\n",
    "\n",
    "## Données\n",
    "data.csv contient 6 variables : \n",
    "    - 'Entreprise' correspond à une liste d'entreprises fictive\n",
    "    - 'Metier' correspond au métier parmi data scientist, lead data scientist, data engineer et data architecte\n",
    "    - 'Technologies' correspond aux compétences maîtrisées par le profil\n",
    "    - 'Diplome' correspond à son niveau scolaire (Bac, Master, PhD,...)\n",
    "    - 'Experience' correspond au nombre d'années d'expériences\n",
    "    - 'Ville' correspond au lieu de travail\n",
    "    \n",
    "\n",
    "\n",
    "## Répondez aux questions \n",
    "\n",
    "Bonne chance!"
   ]
  },
  {
   "cell_type": "code",
   "execution_count": 105,
   "metadata": {},
   "outputs": [],
   "source": [
    "# Import des libraries classique (numpy, pandas, ...)\n",
    "import pandas as pd\n",
    "import numpy as np\n",
    "import re\n",
    "import sklearn as sk\n",
    "import seaborn as sns\n",
    "from matplotlib import pyplot as plt\n",
    "plt.style.use('ggplot')"
   ]
  },
  {
   "cell_type": "markdown",
   "metadata": {},
   "source": [
    "### 1) Importer le tableau de données dans un dataframe "
   ]
  },
  {
   "cell_type": "code",
   "execution_count": 2,
   "metadata": {},
   "outputs": [],
   "source": [
    "# Import du dataframe \"data.csv\"\n",
    "df = pd.read_csv('data.csv')"
   ]
  },
  {
   "cell_type": "code",
   "execution_count": 8,
   "metadata": {},
   "outputs": [
    {
     "data": {
      "text/html": [
       "<div>\n",
       "<style scoped>\n",
       "    .dataframe tbody tr th:only-of-type {\n",
       "        vertical-align: middle;\n",
       "    }\n",
       "\n",
       "    .dataframe tbody tr th {\n",
       "        vertical-align: top;\n",
       "    }\n",
       "\n",
       "    .dataframe thead th {\n",
       "        text-align: right;\n",
       "    }\n",
       "</style>\n",
       "<table border=\"1\" class=\"dataframe\">\n",
       "  <thead>\n",
       "    <tr style=\"text-align: right;\">\n",
       "      <th></th>\n",
       "      <th>Entreprise</th>\n",
       "      <th>Metier</th>\n",
       "      <th>Technologies</th>\n",
       "      <th>Diplome</th>\n",
       "      <th>Experience</th>\n",
       "      <th>Ville</th>\n",
       "    </tr>\n",
       "  </thead>\n",
       "  <tbody>\n",
       "    <tr>\n",
       "      <th>0</th>\n",
       "      <td>Sanofi</td>\n",
       "      <td>Data scientist</td>\n",
       "      <td>Matlab/Python/Pyspark/Scikit-learn/Tensorflow</td>\n",
       "      <td>Master</td>\n",
       "      <td>1</td>\n",
       "      <td>Paris</td>\n",
       "    </tr>\n",
       "    <tr>\n",
       "      <th>1</th>\n",
       "      <td>Massachusetts General Hospital(MGH)</td>\n",
       "      <td>Data architecte</td>\n",
       "      <td>Python/Java/Scala/MongoDB</td>\n",
       "      <td>Master</td>\n",
       "      <td>3</td>\n",
       "      <td>Marseille</td>\n",
       "    </tr>\n",
       "    <tr>\n",
       "      <th>2</th>\n",
       "      <td>Delve</td>\n",
       "      <td>Lead data scientist</td>\n",
       "      <td>SPSS/SQL/Teradata/R/Python/Tensorflow/scikit-l...</td>\n",
       "      <td>Master</td>\n",
       "      <td>3</td>\n",
       "      <td>Nantes</td>\n",
       "    </tr>\n",
       "  </tbody>\n",
       "</table>\n",
       "</div>"
      ],
      "text/plain": [
       "                            Entreprise               Metier  \\\n",
       "0                               Sanofi       Data scientist   \n",
       "1  Massachusetts General Hospital(MGH)      Data architecte   \n",
       "2                                Delve  Lead data scientist   \n",
       "\n",
       "                                        Technologies Diplome Experience  \\\n",
       "0      Matlab/Python/Pyspark/Scikit-learn/Tensorflow  Master          1   \n",
       "1                          Python/Java/Scala/MongoDB  Master          3   \n",
       "2  SPSS/SQL/Teradata/R/Python/Tensorflow/scikit-l...  Master          3   \n",
       "\n",
       "       Ville  \n",
       "0      Paris  \n",
       "1  Marseille  \n",
       "2     Nantes  "
      ]
     },
     "execution_count": 8,
     "metadata": {},
     "output_type": "execute_result"
    }
   ],
   "source": [
    "df.head(3)"
   ]
  },
  {
   "cell_type": "code",
   "execution_count": 10,
   "metadata": {},
   "outputs": [
    {
     "data": {
      "text/html": [
       "<div>\n",
       "<style scoped>\n",
       "    .dataframe tbody tr th:only-of-type {\n",
       "        vertical-align: middle;\n",
       "    }\n",
       "\n",
       "    .dataframe tbody tr th {\n",
       "        vertical-align: top;\n",
       "    }\n",
       "\n",
       "    .dataframe thead th {\n",
       "        text-align: right;\n",
       "    }\n",
       "</style>\n",
       "<table border=\"1\" class=\"dataframe\">\n",
       "  <thead>\n",
       "    <tr style=\"text-align: right;\">\n",
       "      <th></th>\n",
       "      <th>Entreprise</th>\n",
       "      <th>Metier</th>\n",
       "      <th>Technologies</th>\n",
       "      <th>Diplome</th>\n",
       "      <th>Experience</th>\n",
       "      <th>Ville</th>\n",
       "    </tr>\n",
       "  </thead>\n",
       "  <tbody>\n",
       "    <tr>\n",
       "      <th>count</th>\n",
       "      <td>9565</td>\n",
       "      <td>9563</td>\n",
       "      <td>9582</td>\n",
       "      <td>9582</td>\n",
       "      <td>9488</td>\n",
       "      <td>9582</td>\n",
       "    </tr>\n",
       "    <tr>\n",
       "      <th>unique</th>\n",
       "      <td>1382</td>\n",
       "      <td>4</td>\n",
       "      <td>57</td>\n",
       "      <td>4</td>\n",
       "      <td>21</td>\n",
       "      <td>14</td>\n",
       "    </tr>\n",
       "    <tr>\n",
       "      <th>top</th>\n",
       "      <td>Ball Aerospace</td>\n",
       "      <td>Data scientist</td>\n",
       "      <td>SQL/R/Python//Big data</td>\n",
       "      <td>Master</td>\n",
       "      <td>1,5</td>\n",
       "      <td>Paris</td>\n",
       "    </tr>\n",
       "    <tr>\n",
       "      <th>freq</th>\n",
       "      <td>748</td>\n",
       "      <td>3865</td>\n",
       "      <td>539</td>\n",
       "      <td>4971</td>\n",
       "      <td>1023</td>\n",
       "      <td>2015</td>\n",
       "    </tr>\n",
       "  </tbody>\n",
       "</table>\n",
       "</div>"
      ],
      "text/plain": [
       "            Entreprise          Metier            Technologies Diplome  \\\n",
       "count             9565            9563                    9582    9582   \n",
       "unique            1382               4                      57       4   \n",
       "top     Ball Aerospace  Data scientist  SQL/R/Python//Big data  Master   \n",
       "freq               748            3865                     539    4971   \n",
       "\n",
       "       Experience  Ville  \n",
       "count        9488   9582  \n",
       "unique         21     14  \n",
       "top           1,5  Paris  \n",
       "freq         1023   2015  "
      ]
     },
     "execution_count": 10,
     "metadata": {},
     "output_type": "execute_result"
    }
   ],
   "source": [
    "df.describe()"
   ]
  },
  {
   "cell_type": "markdown",
   "metadata": {},
   "source": [
    "### 2) Combien y a t-il d'observations dans ce dataset? Y a t-il des valeurs manquantes? "
   ]
  },
  {
   "cell_type": "code",
   "execution_count": 6,
   "metadata": {},
   "outputs": [
    {
     "data": {
      "text/plain": [
       "9582"
      ]
     },
     "execution_count": 6,
     "metadata": {},
     "output_type": "execute_result"
    }
   ],
   "source": [
    "df.shape[0]"
   ]
  },
  {
   "cell_type": "markdown",
   "metadata": {},
   "source": [
    "Il y a `9582` lignes dans le dataset"
   ]
  },
  {
   "cell_type": "code",
   "execution_count": 82,
   "metadata": {},
   "outputs": [
    {
     "data": {
      "text/plain": [
       "Entreprise      17\n",
       "Metier          19\n",
       "Technologies     0\n",
       "Diplome          0\n",
       "Experience      94\n",
       "Ville            0\n",
       "dtype: int64"
      ]
     },
     "execution_count": 82,
     "metadata": {},
     "output_type": "execute_result"
    }
   ],
   "source": [
    "df.isna().sum()"
   ]
  },
  {
   "cell_type": "markdown",
   "metadata": {},
   "source": [
    "Il y a:\n",
    "- `17` lignes ou il manque une **entreprise**\n",
    "- `19` lignes ou il manque un **metier**\n",
    "- `94` lignes ou il manque une **experience**"
   ]
  },
  {
   "cell_type": "markdown",
   "metadata": {},
   "source": [
    "### 3) Réaliser l'imputation des valeurs manquantes pour la variable \"Experience\" avec : \n",
    "- la valeur médiane pour les data scientists\n",
    "- la valeur moyenne pour les data engineers"
   ]
  },
  {
   "cell_type": "markdown",
   "metadata": {},
   "source": [
    "Voyons comment sont répartis les valeurs manquante (pour la colone experience) entre les metiers"
   ]
  },
  {
   "cell_type": "code",
   "execution_count": 94,
   "metadata": {},
   "outputs": [
    {
     "data": {
      "text/html": [
       "<div>\n",
       "<style scoped>\n",
       "    .dataframe tbody tr th:only-of-type {\n",
       "        vertical-align: middle;\n",
       "    }\n",
       "\n",
       "    .dataframe tbody tr th {\n",
       "        vertical-align: top;\n",
       "    }\n",
       "\n",
       "    .dataframe thead th {\n",
       "        text-align: right;\n",
       "    }\n",
       "</style>\n",
       "<table border=\"1\" class=\"dataframe\">\n",
       "  <thead>\n",
       "    <tr style=\"text-align: right;\">\n",
       "      <th></th>\n",
       "      <th>NaN number</th>\n",
       "      <th>Not NaN number</th>\n",
       "      <th>NaN percent</th>\n",
       "    </tr>\n",
       "    <tr>\n",
       "      <th>Metier</th>\n",
       "      <th></th>\n",
       "      <th></th>\n",
       "      <th></th>\n",
       "    </tr>\n",
       "  </thead>\n",
       "  <tbody>\n",
       "    <tr>\n",
       "      <th>Data architecte</th>\n",
       "      <td>0</td>\n",
       "      <td>2123</td>\n",
       "      <td>0.0</td>\n",
       "    </tr>\n",
       "    <tr>\n",
       "      <th>Data engineer</th>\n",
       "      <td>0</td>\n",
       "      <td>2347</td>\n",
       "      <td>0.0</td>\n",
       "    </tr>\n",
       "    <tr>\n",
       "      <th>Data scientist</th>\n",
       "      <td>0</td>\n",
       "      <td>3865</td>\n",
       "      <td>0.0</td>\n",
       "    </tr>\n",
       "    <tr>\n",
       "      <th>Lead data scientist</th>\n",
       "      <td>0</td>\n",
       "      <td>1228</td>\n",
       "      <td>0.0</td>\n",
       "    </tr>\n",
       "    <tr>\n",
       "      <th>NaN</th>\n",
       "      <td>0</td>\n",
       "      <td>19</td>\n",
       "      <td>0.0</td>\n",
       "    </tr>\n",
       "  </tbody>\n",
       "</table>\n",
       "</div>"
      ],
      "text/plain": [
       "                     NaN number  Not NaN number  NaN percent\n",
       "Metier                                                      \n",
       "Data architecte               0            2123          0.0\n",
       "Data engineer                 0            2347          0.0\n",
       "Data scientist                0            3865          0.0\n",
       "Lead data scientist           0            1228          0.0\n",
       "NaN                           0              19          0.0"
      ]
     },
     "execution_count": 94,
     "metadata": {},
     "output_type": "execute_result"
    }
   ],
   "source": [
    "def get_exp_nan_by_metier_details():\n",
    "    # Getting number of nan in `Experience` for each `Metier`\n",
    "    df_isna = df.isna()\n",
    "    df_isna[\"Metier\"] = df[\"Metier\"]\n",
    "    final_df = df_isna[[\"Metier\", \"Experience\"]].groupby(\"Metier\", dropna=False).sum().rename(columns={'Experience': 'NaN number'})\n",
    "\n",
    "    # Getting number of NOT nan in `Experience` for each `Metier`\n",
    "    final_df[\"Not NaN number\"] = df.groupby(\"Metier\", dropna=False)[\"Experience\"].count()\n",
    "\n",
    "    # Computing percent of nan in `Experience` for each `Metier`\n",
    "    final_df[\"NaN percent\"] = final_df.apply(lambda r: r[\"NaN number\"] / (r[\"NaN number\"] + r[\"Not NaN number\"]) * 100, axis=1)\n",
    "\n",
    "    return final_df\n",
    "\n",
    "get_exp_nan_by_metier_details()"
   ]
  },
  {
   "cell_type": "markdown",
   "metadata": {},
   "source": [
    "-> Tous les metiers ont des lignes avec des valeurs manquantes pour l'experience (environ 1% des lignes).\n",
    "\n",
    "-> Les lignes sans metier (à prédire) n'ont pas de valeur manquante pour l'experience"
   ]
  },
  {
   "cell_type": "code",
   "execution_count": 69,
   "metadata": {},
   "outputs": [
    {
     "data": {
      "text/plain": [
       "dtype('O')"
      ]
     },
     "execution_count": 69,
     "metadata": {},
     "output_type": "execute_result"
    }
   ],
   "source": [
    "df[\"Experience\"].dtypes"
   ]
  },
  {
   "cell_type": "markdown",
   "metadata": {},
   "source": [
    "La colone \"Experience\" est de type `object`, il faut la convertir en `float` pour pouvoir faire des calcules"
   ]
  },
  {
   "cell_type": "code",
   "execution_count": 72,
   "metadata": {},
   "outputs": [
    {
     "data": {
      "text/plain": [
       "dtype('float64')"
      ]
     },
     "execution_count": 72,
     "metadata": {},
     "output_type": "execute_result"
    }
   ],
   "source": [
    "df[\"Experience\"] = df[\"Experience\"].replace(\",\", \".\", regex=True).astype(float)\n",
    "df[\"Experience\"].dtypes"
   ]
  },
  {
   "cell_type": "markdown",
   "metadata": {},
   "source": [
    "On peut maintenant calculer:\n",
    "- la medianne de l'experience des Data Scientist\n",
    "- la moyenne de l'experience des Data Engineer"
   ]
  },
  {
   "cell_type": "code",
   "execution_count": 76,
   "metadata": {},
   "outputs": [
    {
     "name": "stdout",
     "output_type": "stream",
     "text": [
      "Data scientist median experience: 2.0\n",
      "Data Engineer mean experience: 2.984959174903309\n"
     ]
    }
   ],
   "source": [
    "df_by_metier = df.groupby(\"Metier\")\n",
    "\n",
    "ds_median = df_by_metier.get_group(\"Data scientist\")[\"Experience\"].median()\n",
    "de_mean = df_by_metier.get_group(\"Data engineer\")[\"Experience\"].mean()\n",
    "\n",
    "print(f\"Data scientist median experience: {ds_median}\")\n",
    "print(f\"Data Engineer mean experience: {de_mean}\")"
   ]
  },
  {
   "cell_type": "markdown",
   "metadata": {},
   "source": [
    "Et remplacer les NaN"
   ]
  },
  {
   "cell_type": "code",
   "execution_count": 96,
   "metadata": {},
   "outputs": [
    {
     "data": {
      "text/html": [
       "<div>\n",
       "<style scoped>\n",
       "    .dataframe tbody tr th:only-of-type {\n",
       "        vertical-align: middle;\n",
       "    }\n",
       "\n",
       "    .dataframe tbody tr th {\n",
       "        vertical-align: top;\n",
       "    }\n",
       "\n",
       "    .dataframe thead th {\n",
       "        text-align: right;\n",
       "    }\n",
       "</style>\n",
       "<table border=\"1\" class=\"dataframe\">\n",
       "  <thead>\n",
       "    <tr style=\"text-align: right;\">\n",
       "      <th></th>\n",
       "      <th>NaN number</th>\n",
       "      <th>Not NaN number</th>\n",
       "      <th>NaN percent</th>\n",
       "    </tr>\n",
       "    <tr>\n",
       "      <th>Metier</th>\n",
       "      <th></th>\n",
       "      <th></th>\n",
       "      <th></th>\n",
       "    </tr>\n",
       "  </thead>\n",
       "  <tbody>\n",
       "    <tr>\n",
       "      <th>Data architecte</th>\n",
       "      <td>0</td>\n",
       "      <td>2123</td>\n",
       "      <td>0.0</td>\n",
       "    </tr>\n",
       "    <tr>\n",
       "      <th>Data engineer</th>\n",
       "      <td>0</td>\n",
       "      <td>2347</td>\n",
       "      <td>0.0</td>\n",
       "    </tr>\n",
       "    <tr>\n",
       "      <th>Data scientist</th>\n",
       "      <td>0</td>\n",
       "      <td>3865</td>\n",
       "      <td>0.0</td>\n",
       "    </tr>\n",
       "    <tr>\n",
       "      <th>Lead data scientist</th>\n",
       "      <td>0</td>\n",
       "      <td>1228</td>\n",
       "      <td>0.0</td>\n",
       "    </tr>\n",
       "    <tr>\n",
       "      <th>NaN</th>\n",
       "      <td>0</td>\n",
       "      <td>19</td>\n",
       "      <td>0.0</td>\n",
       "    </tr>\n",
       "  </tbody>\n",
       "</table>\n",
       "</div>"
      ],
      "text/plain": [
       "                     NaN number  Not NaN number  NaN percent\n",
       "Metier                                                      \n",
       "Data architecte               0            2123          0.0\n",
       "Data engineer                 0            2347          0.0\n",
       "Data scientist                0            3865          0.0\n",
       "Lead data scientist           0            1228          0.0\n",
       "NaN                           0              19          0.0"
      ]
     },
     "execution_count": 96,
     "metadata": {},
     "output_type": "execute_result"
    }
   ],
   "source": [
    "# Replacing NaN in `Experience` by the mean for Data Scientist\n",
    "df.loc[(df[\"Metier\"] == \"Data scientist\") & (df[\"Experience\"].isna()), \"Experience\"] = ds_median\n",
    "df.loc[(df[\"Metier\"] == \"Data engineer\") & (df[\"Experience\"].isna()), \"Experience\"] = de_mean\n",
    "\n",
    "get_exp_nan_by_metier_details()"
   ]
  },
  {
   "cell_type": "markdown",
   "metadata": {},
   "source": [
    "On remplace aussi les valeurs manquante dans `Experience` par la moyenne pour les autres valeurs de `Metier`"
   ]
  },
  {
   "cell_type": "code",
   "execution_count": 92,
   "metadata": {},
   "outputs": [],
   "source": [
    "for metier in [\"Data architecte\", \"Lead data scientist\"]:\n",
    "    metier_mean = df_by_metier.get_group(metier)[\"Experience\"].mean()\n",
    "    df.loc[(df[\"Metier\"] == metier) & (df[\"Experience\"].isna()), \"Experience\"] = metier_mean"
   ]
  },
  {
   "cell_type": "code",
   "execution_count": 95,
   "metadata": {},
   "outputs": [
    {
     "data": {
      "text/html": [
       "<div>\n",
       "<style scoped>\n",
       "    .dataframe tbody tr th:only-of-type {\n",
       "        vertical-align: middle;\n",
       "    }\n",
       "\n",
       "    .dataframe tbody tr th {\n",
       "        vertical-align: top;\n",
       "    }\n",
       "\n",
       "    .dataframe thead th {\n",
       "        text-align: right;\n",
       "    }\n",
       "</style>\n",
       "<table border=\"1\" class=\"dataframe\">\n",
       "  <thead>\n",
       "    <tr style=\"text-align: right;\">\n",
       "      <th></th>\n",
       "      <th>NaN number</th>\n",
       "      <th>Not NaN number</th>\n",
       "      <th>NaN percent</th>\n",
       "    </tr>\n",
       "    <tr>\n",
       "      <th>Metier</th>\n",
       "      <th></th>\n",
       "      <th></th>\n",
       "      <th></th>\n",
       "    </tr>\n",
       "  </thead>\n",
       "  <tbody>\n",
       "    <tr>\n",
       "      <th>Data architecte</th>\n",
       "      <td>0</td>\n",
       "      <td>2123</td>\n",
       "      <td>0.0</td>\n",
       "    </tr>\n",
       "    <tr>\n",
       "      <th>Data engineer</th>\n",
       "      <td>0</td>\n",
       "      <td>2347</td>\n",
       "      <td>0.0</td>\n",
       "    </tr>\n",
       "    <tr>\n",
       "      <th>Data scientist</th>\n",
       "      <td>0</td>\n",
       "      <td>3865</td>\n",
       "      <td>0.0</td>\n",
       "    </tr>\n",
       "    <tr>\n",
       "      <th>Lead data scientist</th>\n",
       "      <td>0</td>\n",
       "      <td>1228</td>\n",
       "      <td>0.0</td>\n",
       "    </tr>\n",
       "    <tr>\n",
       "      <th>NaN</th>\n",
       "      <td>0</td>\n",
       "      <td>19</td>\n",
       "      <td>0.0</td>\n",
       "    </tr>\n",
       "  </tbody>\n",
       "</table>\n",
       "</div>"
      ],
      "text/plain": [
       "                     NaN number  Not NaN number  NaN percent\n",
       "Metier                                                      \n",
       "Data architecte               0            2123          0.0\n",
       "Data engineer                 0            2347          0.0\n",
       "Data scientist                0            3865          0.0\n",
       "Lead data scientist           0            1228          0.0\n",
       "NaN                           0              19          0.0"
      ]
     },
     "execution_count": 95,
     "metadata": {},
     "output_type": "execute_result"
    }
   ],
   "source": [
    "get_exp_nan_by_metier_details()"
   ]
  },
  {
   "cell_type": "markdown",
   "metadata": {},
   "source": [
    "=> Il n'y a plus de valeurs manquantes dans la colone `Experience`"
   ]
  },
  {
   "cell_type": "markdown",
   "metadata": {},
   "source": [
    "### 4) Combien d'années d'expériences ont, en moyenne, chacun des profils : le data scientist, le lead data scientist et le data engineer en moyenne?"
   ]
  },
  {
   "cell_type": "code",
   "execution_count": 101,
   "metadata": {},
   "outputs": [
    {
     "data": {
      "text/html": [
       "<div>\n",
       "<style scoped>\n",
       "    .dataframe tbody tr th:only-of-type {\n",
       "        vertical-align: middle;\n",
       "    }\n",
       "\n",
       "    .dataframe tbody tr th {\n",
       "        vertical-align: top;\n",
       "    }\n",
       "\n",
       "    .dataframe thead th {\n",
       "        text-align: right;\n",
       "    }\n",
       "</style>\n",
       "<table border=\"1\" class=\"dataframe\">\n",
       "  <thead>\n",
       "    <tr style=\"text-align: right;\">\n",
       "      <th></th>\n",
       "      <th>Experience</th>\n",
       "    </tr>\n",
       "    <tr>\n",
       "      <th>Metier</th>\n",
       "      <th></th>\n",
       "    </tr>\n",
       "  </thead>\n",
       "  <tbody>\n",
       "    <tr>\n",
       "      <th>Data architecte</th>\n",
       "      <td>3.000476</td>\n",
       "    </tr>\n",
       "    <tr>\n",
       "      <th>Data engineer</th>\n",
       "      <td>2.984959</td>\n",
       "    </tr>\n",
       "    <tr>\n",
       "      <th>Data scientist</th>\n",
       "      <td>2.241268</td>\n",
       "    </tr>\n",
       "    <tr>\n",
       "      <th>Lead data scientist</th>\n",
       "      <td>3.965261</td>\n",
       "    </tr>\n",
       "  </tbody>\n",
       "</table>\n",
       "</div>"
      ],
      "text/plain": [
       "                     Experience\n",
       "Metier                         \n",
       "Data architecte        3.000476\n",
       "Data engineer          2.984959\n",
       "Data scientist         2.241268\n",
       "Lead data scientist    3.965261"
      ]
     },
     "execution_count": 101,
     "metadata": {},
     "output_type": "execute_result"
    }
   ],
   "source": [
    "df.groupby(\"Metier\").mean()"
   ]
  },
  {
   "cell_type": "markdown",
   "metadata": {},
   "source": [
    "### 5) Faire la représentation graphique de votre choix afin de comparer le nombre moyen d'années d'expériences pour chaque métier"
   ]
  },
  {
   "cell_type": "code",
   "execution_count": 115,
   "metadata": {},
   "outputs": [
    {
     "data": {
      "image/png": "[encoded data removed]",
      "text/plain": [
       "<Figure size 432x288 with 1 Axes>"
      ]
     },
     "metadata": {},
     "output_type": "display_data"
    }
   ],
   "source": [
    "sns.barplot(x=\"Metier\", y=\"Experience\", data=df, order=[\"Data scientist\", \"Data engineer\", \"Data architecte\", \"Lead data scientist\"])\n",
    "plt.show()"
   ]
  },
  {
   "cell_type": "markdown",
   "metadata": {},
   "source": [
    "Voila une représentation simple de la moyenne de l'experience pour chaque métier"
   ]
  },
  {
   "cell_type": "markdown",
   "metadata": {},
   "source": [
    "Mais représenter simplement la moyenne \"cache\" des informations, comme la distribution. On peut utiliser, par exemple, des \"boîte à moustaches\" (**Box plot**) en complément pour représenter plus d'informations (médiane, quartiles, outliers...)"
   ]
  },
  {
   "cell_type": "code",
   "execution_count": 125,
   "metadata": {},
   "outputs": [
    {
     "data": {
      "image/png": "[encoded data removed]",
      "text/plain": [
       "<Figure size 720x576 with 1 Axes>"
      ]
     },
     "metadata": {},
     "output_type": "display_data"
    }
   ],
   "source": [
    "fig, ax = plt.subplots(figsize=(10, 8))\n",
    "sns.boxplot(x=\"Metier\", y=\"Experience\", data=df, showmeans=True, meanprops={\"marker\": \"o\", \"markerfacecolor\":\"white\", \"markeredgecolor\": \"black\"},\n",
    "            order=[\"Data scientist\", \"Data engineer\", \"Data architecte\", \"Lead data scientist\"], ax=ax)\n",
    "plt.show()"
   ]
  },
  {
   "cell_type": "markdown",
   "metadata": {},
   "source": [
    "On peut même combiner le \"box plot\" avec un \"strip plot\" pour voir les données directement"
   ]
  },
  {
   "cell_type": "code",
   "execution_count": 141,
   "metadata": {},
   "outputs": [
    {
     "data": {
      "image/png": "[encoded data removed]",
      "text/plain": [
       "<Figure size 720x576 with 1 Axes>"
      ]
     },
     "metadata": {},
     "output_type": "display_data"
    }
   ],
   "source": [
    "fig, ax = plt.subplots(figsize=(10, 8))\n",
    "sns.boxplot(x=\"Metier\", y=\"Experience\", data=df, showmeans=True, meanprops={\"marker\": \"o\", \"markerfacecolor\":\"white\", \"markeredgecolor\": \"black\"},\n",
    "            order=[\"Data scientist\", \"Data engineer\", \"Data architecte\", \"Lead data scientist\"], ax=ax)\n",
    "sns.stripplot(x=\"Metier\", y=\"Experience\", data=df, color=\".3\", alpha=0.5, size=3,\n",
    "            order=[\"Data scientist\", \"Data engineer\", \"Data architecte\", \"Lead data scientist\"], ax=ax)\n",
    "plt.show()"
   ]
  },
  {
   "cell_type": "markdown",
   "metadata": {},
   "source": [
    "### 6) Transformer la variable continue 'Experience' en une nouvelle variable catégorielle 'Exp_label' à 4 modalités: débutant, confirmé, avancé et expert\n",
    "- Veuillez expliquer votre choix du règle de transformation.  "
   ]
  },
  {
   "cell_type": "markdown",
   "metadata": {},
   "source": [
    "Pour séparer les données en 4 catégories, il faut que je définisse des valeurs limites entre chaque groupe. J'ai pensé à utiliser les quartiles: concrètement, un \"avancé\" auras plus d'experience que 50% des autres profiles, un \"expert\" lui, plus que 75% des autres profiles...\n",
    "\n",
    "On peut observer les quartiles sur ce box plot:"
   ]
  },
  {
   "cell_type": "code",
   "execution_count": 167,
   "metadata": {},
   "outputs": [
    {
     "data": {
      "image/png": "[encoded data removed]",
      "text/plain": [
       "<Figure size 864x144 with 1 Axes>"
      ]
     },
     "metadata": {},
     "output_type": "display_data"
    }
   ],
   "source": [
    "fig, ax = plt.subplots(figsize=(12, 2))\n",
    "sns.boxplot(x=df[\"Experience\"], showmeans=True, meanprops={\"marker\": \"o\", \"markerfacecolor\":\"white\", \"markeredgecolor\": \"black\"}, ax=ax)\n",
    "# sns.stripplot(x=df[\"Experience\"], data=df, color=\".3\", alpha=0.1, size=3, ax=ax)\n",
    "plt.show()"
   ]
  },
  {
   "cell_type": "markdown",
   "metadata": {},
   "source": [
    "`pd.qcut()` permet justement de diviser les lignes en groupe en fonction des quartiles"
   ]
  },
  {
   "cell_type": "code",
   "execution_count": 500,
   "metadata": {},
   "outputs": [
    {
     "name": "stdout",
     "output_type": "stream",
     "text": [
      "Bins limit: [ 0.   1.   2.   3.5 21. ]\n"
     ]
    },
    {
     "data": {
      "text/html": [
       "<div>\n",
       "<style scoped>\n",
       "    .dataframe tbody tr th:only-of-type {\n",
       "        vertical-align: middle;\n",
       "    }\n",
       "\n",
       "    .dataframe tbody tr th {\n",
       "        vertical-align: top;\n",
       "    }\n",
       "\n",
       "    .dataframe thead th {\n",
       "        text-align: right;\n",
       "    }\n",
       "</style>\n",
       "<table border=\"1\" class=\"dataframe\">\n",
       "  <thead>\n",
       "    <tr style=\"text-align: right;\">\n",
       "      <th></th>\n",
       "      <th>Entreprise</th>\n",
       "      <th>Metier</th>\n",
       "      <th>Technologies</th>\n",
       "      <th>Diplome</th>\n",
       "      <th>Experience</th>\n",
       "      <th>Ville</th>\n",
       "      <th>Exp_label</th>\n",
       "    </tr>\n",
       "  </thead>\n",
       "  <tbody>\n",
       "    <tr>\n",
       "      <th>0</th>\n",
       "      <td>Sanofi</td>\n",
       "      <td>Data scientist</td>\n",
       "      <td>[pyspark, scikit-learn, python, tensorflow, ma...</td>\n",
       "      <td>Master</td>\n",
       "      <td>1.0</td>\n",
       "      <td>Paris</td>\n",
       "      <td>débutant</td>\n",
       "    </tr>\n",
       "    <tr>\n",
       "      <th>1</th>\n",
       "      <td>Massachusetts General Hospital(MGH)</td>\n",
       "      <td>Data architecte</td>\n",
       "      <td>[java, python, mongodb, scala]</td>\n",
       "      <td>Master</td>\n",
       "      <td>3.0</td>\n",
       "      <td>Marseille</td>\n",
       "      <td>avancé</td>\n",
       "    </tr>\n",
       "    <tr>\n",
       "      <th>2</th>\n",
       "      <td>Delve</td>\n",
       "      <td>Lead data scientist</td>\n",
       "      <td>[teradata, scikit-learn, r, python, tensorflow...</td>\n",
       "      <td>Master</td>\n",
       "      <td>3.0</td>\n",
       "      <td>Nantes</td>\n",
       "      <td>avancé</td>\n",
       "    </tr>\n",
       "    <tr>\n",
       "      <th>3</th>\n",
       "      <td>Ann &amp; Robert H. Lurie Children’s Hospital of C...</td>\n",
       "      <td>Data scientist</td>\n",
       "      <td>[c++, python, java, c]</td>\n",
       "      <td>Master</td>\n",
       "      <td>1.5</td>\n",
       "      <td>Marseille</td>\n",
       "      <td>confirmé</td>\n",
       "    </tr>\n",
       "    <tr>\n",
       "      <th>4</th>\n",
       "      <td>Arm</td>\n",
       "      <td>Data scientist</td>\n",
       "      <td>[c++, scikit-learn, python, tensorflow, numpy,...</td>\n",
       "      <td>Phd</td>\n",
       "      <td>2.0</td>\n",
       "      <td>Bordeaux</td>\n",
       "      <td>confirmé</td>\n",
       "    </tr>\n",
       "  </tbody>\n",
       "</table>\n",
       "</div>"
      ],
      "text/plain": [
       "                                          Entreprise               Metier  \\\n",
       "0                                             Sanofi       Data scientist   \n",
       "1                Massachusetts General Hospital(MGH)      Data architecte   \n",
       "2                                              Delve  Lead data scientist   \n",
       "3  Ann & Robert H. Lurie Children’s Hospital of C...       Data scientist   \n",
       "4                                                Arm       Data scientist   \n",
       "\n",
       "                                        Technologies Diplome  Experience  \\\n",
       "0  [pyspark, scikit-learn, python, tensorflow, ma...  Master         1.0   \n",
       "1                     [java, python, mongodb, scala]  Master         3.0   \n",
       "2  [teradata, scikit-learn, r, python, tensorflow...  Master         3.0   \n",
       "3                             [c++, python, java, c]  Master         1.5   \n",
       "4  [c++, scikit-learn, python, tensorflow, numpy,...     Phd         2.0   \n",
       "\n",
       "       Ville Exp_label  \n",
       "0      Paris  débutant  \n",
       "1  Marseille    avancé  \n",
       "2     Nantes    avancé  \n",
       "3  Marseille  confirmé  \n",
       "4   Bordeaux  confirmé  "
      ]
     },
     "execution_count": 500,
     "metadata": {},
     "output_type": "execute_result"
    }
   ],
   "source": [
    "df[\"Exp_label\"], bins = pd.qcut(df[\"Experience\"], 4, labels=[\"débutant\", \"confirmé\", \"avancé\", \"expert\"], retbins=True)\n",
    "print(f\"Bins limit: {bins}\")\n",
    "\n",
    "df.head(5)"
   ]
  },
  {
   "cell_type": "markdown",
   "metadata": {},
   "source": [
    "On peut évaluer visuellement à quel point `Exp_label` \"divise\" les `Metier` avec ce _diagramme à barres_ qui montre le nombre de profile dans chaque métier pour chaque catégorie de `Exp_label` :"
   ]
  },
  {
   "cell_type": "code",
   "execution_count": 491,
   "metadata": {},
   "outputs": [
    {
     "data": {
      "image/png": "[encoded data removed]",
      "text/plain": [
       "<Figure size 1008x360 with 4 Axes>"
      ]
     },
     "metadata": {},
     "output_type": "display_data"
    }
   ],
   "source": [
    "f_grid = sns.catplot(x=\"Metier\", col=\"Exp_label\", data=df, kind=\"count\", height=5, aspect=.7,\n",
    "            order=[\"Data scientist\", \"Data engineer\", \"Data architecte\", \"Lead data scientist\"])\n",
    "\n",
    "for grid_line in f_grid.axes:\n",
    "    for sub_ax in grid_line:\n",
    "        sub_ax.set_xticklabels(sub_ax.get_xticklabels(), rotation=90)\n",
    "plt.show()"
   ]
  },
  {
   "cell_type": "markdown",
   "metadata": {},
   "source": [
    "### 7) Quelles sont les 5 technologies les plus utilisées? Faites un graphique"
   ]
  },
  {
   "cell_type": "code",
   "execution_count": 211,
   "metadata": {},
   "outputs": [
    {
     "name": "stdout",
     "output_type": "stream",
     "text": [
      "object\n",
      "<class 'str'>\n"
     ]
    }
   ],
   "source": [
    "print(df[\"Technologies\"].dtype)\n",
    "print(type(df[\"Technologies\"][0]))"
   ]
  },
  {
   "cell_type": "markdown",
   "metadata": {},
   "source": [
    "Les technologies sont sous forme de string et non de liste, il va falloir les convertir.\n",
    "\n",
    "On nettoi aussi un peu les données:\n",
    "- En supprimant les doubles slash `//`, qui créent une techno \"vide\" (`\"\"`)\n",
    "- En mettant en miniscule tout les caractères (pour ne pas différencier `\"machine learning\"` et `\"Machine learning\"` par exemple)\n",
    "- En évitant qu'un profile ai renseigné 2 fois la même technologie et fausse les comptes (avec un `set()`)\n",
    "- En traitant quelques cas particuliers:\n",
    "  - Je ne crois pas que la technologie `\"NoSQ\"` existe, il sagit surement d'une faute de frappe pour `\"NoSQL\"`. Il va falloir corriger ça.\n",
    "  - Dans nos listes, il existe les technologie `\"Hadoop(HDFS)\"`, `\"Hadoop\"` et `\"HDFS\"` qui sont similaire. Je pense convertir `\"Hadoop(HDFS)\"` en `\"Hadoop\"` et `\"HDFS\"`."
   ]
  },
  {
   "cell_type": "code",
   "execution_count": 305,
   "metadata": {},
   "outputs": [
    {
     "name": "stdout",
     "output_type": "stream",
     "text": [
      "<class 'list'>\n"
     ]
    }
   ],
   "source": [
    "df[\"Technologies\"] = df[\"Technologies\"].apply(lambda str_lst: list(set(\n",
    "    re.sub(r\"nosq(?!l)\", \"nosql\", str_lst\n",
    "        .lower()\n",
    "        .replace(\"//\", \"/\")\n",
    "        .replace(\"hadoop(hdfs)\", \"hadoop/hdfs\")\n",
    "    ).split(\"/\")\n",
    ")))\n",
    "\n",
    "print(type(df[\"Technologies\"][0]))"
   ]
  },
  {
   "cell_type": "markdown",
   "metadata": {},
   "source": [
    "On peut maintenant les compter, en comptant bien les éléments dans chaque liste (et pas les listes directement)"
   ]
  },
  {
   "cell_type": "code",
   "execution_count": 309,
   "metadata": {},
   "outputs": [
    {
     "data": {
      "text/plain": [
       "python    6627\n",
       "r         4374\n",
       "sql       2581\n",
       "java      1719\n",
       "hadoop    1687\n",
       "dtype: int64"
      ]
     },
     "execution_count": 309,
     "metadata": {},
     "output_type": "execute_result"
    }
   ],
   "source": [
    "def to_1D(series):\n",
    " return pd.Series([x for _list in series for x in _list])\n",
    "\n",
    "techo_count = to_1D(df[\"Technologies\"]).value_counts()\n",
    "techo_count.head(5)"
   ]
  },
  {
   "cell_type": "markdown",
   "metadata": {},
   "source": [
    "Les 5 technologies les plus utilisées sont : le Python, le R, le SQL, le Java et Hadoop"
   ]
  },
  {
   "cell_type": "code",
   "execution_count": 310,
   "metadata": {},
   "outputs": [
    {
     "data": {
      "image/png": "[encoded data removed]",
      "text/plain": [
       "<Figure size 360x1224 with 1 Axes>"
      ]
     },
     "metadata": {},
     "output_type": "display_data"
    }
   ],
   "source": [
    "fig, ax = plt.subplots(figsize=(5, 17))\n",
    "sns.barplot(x=techo_count.values, y=techo_count.index, ax=ax)\n",
    "plt.show()"
   ]
  },
  {
   "cell_type": "code",
   "execution_count": 362,
   "metadata": {},
   "outputs": [],
   "source": [
    "# # Creating a correlation heatmap between technologies\n",
    "\n",
    "# one_hot_techno = df[\"Technologies\"].str.join('|').str.get_dummies()\n",
    "# techno_corr = one_hot_techno.corr(method=\"pearson\")\n",
    "\n",
    "# fig, ax = plt.subplots(figsize = (17,13))\n",
    "# # mask=np.triu(techo_count)\n",
    "# sns.heatmap(techno_corr, mask=np.eye(techo_count.shape[0]),  square=True, linewidths=.5, cmap=\"Blues\")\n",
    "# plt.xticks(rotation=90)\n",
    "# plt.show()\n"
   ]
  },
  {
   "cell_type": "markdown",
   "metadata": {},
   "source": [
    "### 8) Réaliser une méthode de clustering non supervisée de votre choix pour faire apparaître 2 clusters que vous jugerez pertinents. Donnez les caractéristiques de chacun des clusters.\n",
    "-  Justifier la performance de votre algorithme grace à une métrique.\n",
    "-  Interpréter votre resultat.  "
   ]
  },
  {
   "cell_type": "markdown",
   "metadata": {},
   "source": [
    "Il faut préprocesser les données :\n",
    "- Gérer les valeurs manquantes :\n",
    "  - Pour `Experience` : déjà fait, on remplace par la medianne\n",
    "  - Pour `Metier` : ce seront des ligne a prédire plus tard, on peu les enlever\n",
    "  - Pour `Entreprise` : il n'en manque que 17, on peu les enlever\n",
    "- Preprocess `Technologies` : (déjà fait)\n",
    "- Preprocess `Entreprise` : minimiser la case des noms (pour que, par exemple, `\"Somalogic, Inc.\"` et `\"SomaLogic, Inc.\"` soit la même entreprise)\n",
    "- Transformer des features\n",
    "  - Creer `Exp_label`: déjà fait (question 4)\n",
    "- Encoder les _categorical features_ :\n",
    "  - `Entreprise` avec du \"one hot encoding\"\n",
    "  - `Metier` avec du \"one hot encoding\"\n",
    "  - Les liste dans `Technologies` avec du \"one hot encoding\"\n",
    "  - `Diplome` avec du \"ordinal encoding\"\n",
    "  - `Exp_label` avec du \"ordinal encoding\""
   ]
  },
  {
   "cell_type": "code",
   "execution_count": 734,
   "metadata": {},
   "outputs": [],
   "source": [
    "from sklearn.preprocessing import OrdinalEncoder\n",
    "from sklearn.preprocessing import OneHotEncoder\n",
    "\n",
    "def convert_column_to_float(df, column):\n",
    "    df[\"Experience\"] = df[\"Experience\"].replace(\",\", \".\", regex=True).astype(float)\n",
    "\n",
    "def replace_nan_by_categorical_median(df, column, cat_col, param):\n",
    "    P_KEY = f\"{column}_median\"\n",
    "    if P_KEY not in param:\n",
    "        param[P_KEY] = df.groupby(cat_col)[column].median().to_dict()\n",
    "\n",
    "    for cat in df[cat_col].unique():\n",
    "        df.loc[(df[cat_col] == cat) & (df[column].isna()), column] = param[P_KEY].get(cat, df.loc[df[cat_col] == cat, column].median())\n",
    "\n",
    "def drop_nan(df, column):\n",
    "    df.dropna(subset=[column], inplace=True)\n",
    "\n",
    "def lower_column(df, column):\n",
    "    df[column] = df[column].str.lower()\n",
    "\n",
    "def drop_column(df, column):\n",
    "    df.drop(column, axis=1, inplace=True)\n",
    "\n",
    "def ordinal_encoding(df, column, ordered_cat_lst, param):\n",
    "    P_KEY = f\"{column}_ordinal_encoder\"\n",
    "    if P_KEY not in param:\n",
    "        param[P_KEY] = OrdinalEncoder(categories=[ordered_cat_lst])\n",
    "        param[P_KEY].fit(df[[column]])\n",
    "\n",
    "    df[f\"{column}_encoded\"] = param[P_KEY].transform(df[[column]])\n",
    "\n",
    "def one_hot_encoding(df, column, param):\n",
    "    P_KEY = f\"{column}_one_hot_encoder\"\n",
    "    if P_KEY not in param:\n",
    "        param[P_KEY] = OneHotEncoder()\n",
    "        param[P_KEY].fit(df[[column]])\n",
    "\n",
    "    ohe_result = param[P_KEY].transform(df[[column]])\n",
    "    ohe_df = pd.DataFrame(\n",
    "        ohe_result.toarray().astype(int),\n",
    "        columns=[f\"{column}_{cat}\" for cat in param[P_KEY].categories_[0]],\n",
    "        index=df.index\n",
    "    )\n",
    "    return df.join(ohe_df)\n",
    "\n",
    "def list_to_one_hot_encoding(df, column):\n",
    "    one_hot = df[column].str.join('|').str.get_dummies().add_prefix(f\"{column}_\")\n",
    "    return df.join(one_hot)\n",
    "\n",
    "def preprocess_technologies(df):\n",
    "    df[\"Technologies\"] = df[\"Technologies\"].apply(lambda str_lst: list(set(\n",
    "        re.sub(r\"nosq(?!l)\", \"nosql\", str_lst\n",
    "            .lower()\n",
    "            .replace(\"//\", \"/\")\n",
    "            .replace(\"hadoop(hdfs)\", \"hadoop/hdfs\")\n",
    "        ).split(\"/\")\n",
    "    )))\n",
    "\n",
    "def create_exp_label(df, param):\n",
    "    KEY = \"Experience_bins\"\n",
    "    labels = [\"débutant\", \"confirmé\", \"avancé\", \"expert\"]\n",
    "\n",
    "    if KEY not in param:\n",
    "        df[\"Exp_label\"], param[KEY] = pd.qcut(df[\"Experience\"], 4, labels=labels, retbins=True)\n",
    "    else:\n",
    "        df[\"Exp_label\"] = pd.cut(df[\"Experience\"], param[KEY], include_lowest=True, labels=labels)  \n"
   ]
  },
  {
   "cell_type": "code",
   "execution_count": 805,
   "metadata": {},
   "outputs": [],
   "source": [
    "def preprocess_for_clutering(df, param=None):\n",
    "    if param is None:\n",
    "        param = {}\n",
    "\n",
    "    df = df.copy()\n",
    "\n",
    "    # 1. Missing values\n",
    "\n",
    "    # Exeprience\n",
    "    convert_column_to_float(df, \"Experience\")\n",
    "    replace_nan_by_categorical_median(df, \"Experience\", \"Metier\", param)\n",
    "\n",
    "    # Metier (to predict)\n",
    "    drop_nan(df, \"Metier\")\n",
    "\n",
    "\n",
    "    # 2. Preprocess some columns\n",
    "    preprocess_technologies(df)\n",
    "    lower_column(df, \"Entreprise\")\n",
    "\n",
    "\n",
    "    # # 3. Transform features\n",
    "    create_exp_label(df, param)\n",
    "\n",
    "\n",
    "    # 4. Encode categorical features\n",
    "    df = one_hot_encoding(df, \"Metier\", param)\n",
    "    drop_column(df, \"Metier\")\n",
    "    \n",
    "    df = list_to_one_hot_encoding(df, \"Technologies\")\n",
    "    drop_column(df, \"Technologies\")\n",
    "    \n",
    "    # ordinal_encoding(df, \"Diplome\", ['No diploma', 'Bachelor', 'Master', 'Phd'], param)\n",
    "    drop_column(df, \"Diplome\")\n",
    "\n",
    "\n",
    "    # 5. Droping some columns\n",
    "\n",
    "    # ordinal_encoding(df, \"Exp_label\", [\"débutant\", \"confirmé\", \"avancé\", \"expert\"], param)\n",
    "    drop_column(df, \"Exp_label\")\n",
    "    drop_column(df, \"Experience\")\n",
    "\n",
    "    # df = one_hot_encoding(df, \"Entreprise\")\n",
    "    drop_column(df, \"Entreprise\")\n",
    "    \n",
    "    # df = one_hot_encoding(df, \"Ville\", param)\n",
    "    drop_column(df, \"Ville\")\n",
    "\n",
    "\n",
    "    return df, param"
   ]
  },
  {
   "cell_type": "code",
   "execution_count": 806,
   "metadata": {},
   "outputs": [
    {
     "data": {
      "text/html": [
       "<div>\n",
       "<style scoped>\n",
       "    .dataframe tbody tr th:only-of-type {\n",
       "        vertical-align: middle;\n",
       "    }\n",
       "\n",
       "    .dataframe tbody tr th {\n",
       "        vertical-align: top;\n",
       "    }\n",
       "\n",
       "    .dataframe thead th {\n",
       "        text-align: right;\n",
       "    }\n",
       "</style>\n",
       "<table border=\"1\" class=\"dataframe\">\n",
       "  <thead>\n",
       "    <tr style=\"text-align: right;\">\n",
       "      <th></th>\n",
       "      <th>Entreprise</th>\n",
       "      <th>Metier</th>\n",
       "      <th>Technologies</th>\n",
       "      <th>Diplome</th>\n",
       "      <th>Experience</th>\n",
       "      <th>Ville</th>\n",
       "      <th>cluster</th>\n",
       "      <th>Exp_label</th>\n",
       "    </tr>\n",
       "  </thead>\n",
       "  <tbody>\n",
       "    <tr>\n",
       "      <th>0</th>\n",
       "      <td>Sanofi</td>\n",
       "      <td>Data scientist</td>\n",
       "      <td>[pyspark, scikit-learn, python, tensorflow, ma...</td>\n",
       "      <td>Master</td>\n",
       "      <td>1.0</td>\n",
       "      <td>Paris</td>\n",
       "      <td>0.0</td>\n",
       "      <td>débutant</td>\n",
       "    </tr>\n",
       "    <tr>\n",
       "      <th>1</th>\n",
       "      <td>Massachusetts General Hospital(MGH)</td>\n",
       "      <td>Data architecte</td>\n",
       "      <td>[java, python, mongodb, scala]</td>\n",
       "      <td>Master</td>\n",
       "      <td>3.0</td>\n",
       "      <td>Marseille</td>\n",
       "      <td>1.0</td>\n",
       "      <td>avancé</td>\n",
       "    </tr>\n",
       "    <tr>\n",
       "      <th>2</th>\n",
       "      <td>Delve</td>\n",
       "      <td>Lead data scientist</td>\n",
       "      <td>[teradata, scikit-learn, r, python, tensorflow...</td>\n",
       "      <td>Master</td>\n",
       "      <td>3.0</td>\n",
       "      <td>Nantes</td>\n",
       "      <td>0.0</td>\n",
       "      <td>avancé</td>\n",
       "    </tr>\n",
       "  </tbody>\n",
       "</table>\n",
       "</div>"
      ],
      "text/plain": [
       "                            Entreprise               Metier  \\\n",
       "0                               Sanofi       Data scientist   \n",
       "1  Massachusetts General Hospital(MGH)      Data architecte   \n",
       "2                                Delve  Lead data scientist   \n",
       "\n",
       "                                        Technologies Diplome  Experience  \\\n",
       "0  [pyspark, scikit-learn, python, tensorflow, ma...  Master         1.0   \n",
       "1                     [java, python, mongodb, scala]  Master         3.0   \n",
       "2  [teradata, scikit-learn, r, python, tensorflow...  Master         3.0   \n",
       "\n",
       "       Ville  cluster Exp_label  \n",
       "0      Paris      0.0  débutant  \n",
       "1  Marseille      1.0    avancé  \n",
       "2     Nantes      0.0    avancé  "
      ]
     },
     "execution_count": 806,
     "metadata": {},
     "output_type": "execute_result"
    }
   ],
   "source": [
    "from sklearn.cluster import KMeans\n",
    "SEED = 42\n",
    "\n",
    "# Preprocessing\n",
    "df = pd.read_csv(\"data.csv\")\n",
    "train_df, preprocess_param = preprocess_for_clutering(df)\n",
    "\n",
    "# Training\n",
    "kmeans = KMeans(n_clusters=2, random_state=SEED).fit(train_df)\n",
    "\n",
    "# Prediciton\n",
    "train_df[\"cluster\"] = kmeans.predict(train_df)\n",
    "\n",
    "# Create new DataFrame to analyze result\n",
    "df_cluster = df.join(train_df[\"cluster\"])\n",
    "drop_nan(df_cluster, \"cluster\")\n",
    "preprocess_technologies(df_cluster)\n",
    "convert_column_to_float(df_cluster, \"Experience\")\n",
    "create_exp_label(df_cluster, preprocess_param)\n",
    "\n",
    "df_cluster.head(3)"
   ]
  },
  {
   "cell_type": "markdown",
   "metadata": {},
   "source": [
    "#### Metrics"
   ]
  },
  {
   "cell_type": "code",
   "execution_count": 807,
   "metadata": {},
   "outputs": [
    {
     "name": "stdout",
     "output_type": "stream",
     "text": [
      "Silhouette score: 0.187\n"
     ]
    }
   ],
   "source": [
    "silhouette_mean = sk.metrics.silhouette_score(train_df[train_df.columns[:-1]], train_df[\"cluster\"])\n",
    "print(f\"Silhouette score: {silhouette_mean:.3f}\")"
   ]
  },
  {
   "cell_type": "code",
   "execution_count": 808,
   "metadata": {},
   "outputs": [
    {
     "data": {
      "image/png": "[encoded data removed]",
      "text/plain": [
       "<Figure size 864x720 with 1 Axes>"
      ]
     },
     "metadata": {},
     "output_type": "display_data"
    }
   ],
   "source": [
    "# Silhoutte plot\n",
    "fig, ax = plt.subplots(figsize=(12, 10))\n",
    "\n",
    "slihoutte_val = sk.metrics.silhouette_samples(train_df[train_df.columns[:-1]], train_df[\"cluster\"])\n",
    "\n",
    "y_lower = 10\n",
    "for i in train_df[\"cluster\"].unique():\n",
    "    cluster_val = slihoutte_val[train_df[\"cluster\"] == i]\n",
    "    cluster_val.sort()\n",
    "\n",
    "    y_upper = y_lower + cluster_val.shape[0]\n",
    "    ax.fill_betweenx(\n",
    "        np.arange(y_lower, y_upper),\n",
    "        0,\n",
    "        cluster_val,\n",
    "        alpha=0.7,\n",
    "    )\n",
    "\n",
    "    # Label the silhouette plots with their cluster numbers at the middle\n",
    "    ax.text(-0.05, y_lower + 0.5 * cluster_val.shape[0], str(i))\n",
    "\n",
    "    # Compute the new y_lower for next plot\n",
    "    y_lower = y_upper + 10  # 10 for the 0 samples\n",
    "\n",
    "ax.set_title(\"The silhouette plot\")\n",
    "ax.set_xlabel(\"The silhouette coefficient values\")\n",
    "ax.set_ylabel(\"Cluster label\")\n",
    "\n",
    "# The vertical line for average silhouette score of all the values\n",
    "ax.axvline(x=silhouette_mean, color=\"red\", linestyle=\"--\")\n",
    "\n",
    "ax.set_yticks([])  # Clear the yaxis labels / ticks\n",
    "ax.set_xticks([-0.1, 0, 0.2, 0.4, 0.6, 0.8, 1])\n",
    "\n",
    "plt.show()"
   ]
  },
  {
   "cell_type": "code",
   "execution_count": 809,
   "metadata": {},
   "outputs": [
    {
     "name": "stdout",
     "output_type": "stream",
     "text": [
      "Rand Index: 1.00\n",
      "Adjusted Rand Index: 0.99\n"
     ]
    }
   ],
   "source": [
    "true_label = df_cluster[\"Metier\"].replace(\n",
    "    ['Data scientist', 'Data architecte', 'Lead data scientist', 'Data engineer'],\n",
    "    [0, 1, 0, 1]\n",
    ")\n",
    "rand_score = sk.metrics.rand_score(true_label, df_cluster[\"cluster\"])\n",
    "adjusted_rand_score = sk.metrics.adjusted_rand_score(true_label, df_cluster[\"cluster\"])\n",
    "print(f\"Rand Index: {rand_score:.2f}\")\n",
    "print(f\"Adjusted Rand Index: {adjusted_rand_score:.2f}\")\n"
   ]
  },
  {
   "cell_type": "markdown",
   "metadata": {},
   "source": [
    "#### Analyse des clusters"
   ]
  },
  {
   "cell_type": "code",
   "execution_count": 791,
   "metadata": {},
   "outputs": [
    {
     "data": {
      "image/png": "[encoded data removed]",
      "text/plain": [
       "<Figure size 720x360 with 2 Axes>"
      ]
     },
     "metadata": {},
     "output_type": "display_data"
    }
   ],
   "source": [
    "f_grid = sns.catplot(x=\"Metier\", col=\"cluster\", data=df_cluster, kind=\"count\", height=5, aspect=1,\n",
    "            order=[\"Data scientist\", \"Data engineer\", \"Data architecte\", \"Lead data scientist\"])\n",
    "\n",
    "for grid_line in f_grid.axes:\n",
    "    for sub_ax in grid_line:\n",
    "        sub_ax.set_xticklabels(sub_ax.get_xticklabels(), rotation=90)\n",
    "plt.show()"
   ]
  },
  {
   "cell_type": "code",
   "execution_count": 792,
   "metadata": {},
   "outputs": [
    {
     "data": {
      "image/png": "[encoded data removed]",
      "text/plain": [
       "<Figure size 720x1224 with 2 Axes>"
      ]
     },
     "metadata": {},
     "output_type": "display_data"
    }
   ],
   "source": [
    "c0_tech_count = to_1D(df_cluster[df_cluster[\"cluster\"] == 0][\"Technologies\"]).value_counts()\n",
    "c1_tech_count = to_1D(df_cluster[df_cluster[\"cluster\"] == 1][\"Technologies\"]).value_counts()\n",
    "\n",
    "\n",
    "fig, ax = plt.subplots(1,2, figsize=(10, 17))\n",
    "sns.barplot(x=c0_tech_count.values, y=c0_tech_count.index, ax=ax[0])\n",
    "sns.barplot(x=c1_tech_count.values, y=c1_tech_count.index, ax=ax[1])\n",
    "\n",
    "ax[0].title.set_text(\"Cluster 0\")\n",
    "ax[1].title.set_text(\"Cluster 1\")\n",
    "fig.tight_layout()\n",
    "plt.show()"
   ]
  },
  {
   "cell_type": "code",
   "execution_count": 793,
   "metadata": {},
   "outputs": [
    {
     "data": {
      "image/png": "[encoded data removed]",
      "text/plain": [
       "<Figure size 720x360 with 2 Axes>"
      ]
     },
     "metadata": {},
     "output_type": "display_data"
    }
   ],
   "source": [
    "f_grid = sns.catplot(x=\"Exp_label\", col=\"cluster\", data=df_cluster, kind=\"count\", height=5, aspect=1)\n",
    "\n",
    "for grid_line in f_grid.axes:\n",
    "    for sub_ax in grid_line:\n",
    "        sub_ax.set_xticklabels(sub_ax.get_xticklabels(), rotation=90)\n",
    "plt.show()"
   ]
  },
  {
   "cell_type": "markdown",
   "metadata": {},
   "source": [
    "### 9) Réaliser la prédiction des métiers manquants dans la base de données par l'algorithme de votre choix\n",
    "-  Justifier la performance de votre algorithme grace à une métrique.\n",
    "-  Interpréter votre resultat.  "
   ]
  },
  {
   "cell_type": "code",
   "execution_count": null,
   "metadata": {},
   "outputs": [],
   "source": [
    "from sklearn.model_selection import train_test_split\n",
    "\n",
    "new_df = pd.read_csv(\"data.csv\")\n",
    "\n",
    "train_df, test_df = train_test_split(test_size=0.3,)\n",
    "# train_df, preprocess_param = preprocess_dataset(train_df)\n",
    "# test_df, _ = preprocess_dataset(test_df, param=preprocess_param)"
   ]
  }
 ],
 "metadata": {
  "kernelspec": {
   "display_name": "Python 3",
   "language": "python",
   "name": "python3"
  },
  "language_info": {
   "codemirror_mode": {
    "name": "ipython",
    "version": 3
   },
   "file_extension": ".py",
   "mimetype": "text/x-python",
   "name": "python",
   "nbconvert_exporter": "python",
   "pygments_lexer": "ipython3",
   "version": "3.8.5"
  }
 },
 "nbformat": 4,
 "nbformat_minor": 4
}
